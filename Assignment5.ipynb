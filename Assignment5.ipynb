{
 "cells": [
  {
   "cell_type": "markdown",
   "id": "mobile-cowboy",
   "metadata": {},
   "source": [
    "# Que1)"
   ]
  },
  {
   "cell_type": "code",
   "execution_count": 1,
   "id": "answering-sweden",
   "metadata": {},
   "outputs": [
    {
     "name": "stdout",
     "output_type": "stream",
     "text": [
      "Please Enter the Total Number of Elements : 5\n",
      "Please enter the 0 Element of List1 : 78\n",
      "Please enter the 1 Element of List1 : 67\n",
      "Please enter the 2 Element of List1 : 12\n",
      "Please enter the 3 Element of List1 : 34\n",
      "Please enter the 4 Element of List1 : 100\n",
      "The Sorted List in Ascending Order :  [12, 34, 67, 78, 100]\n"
     ]
    }
   ],
   "source": [
    "# Python program for Bubble Sort\n",
    "def bubblesort(a, number):\n",
    "    for i in range(number -1):\n",
    "        for j in range(number - i - 1):\n",
    "            if(a[j] > a[j + 1]):\n",
    "                 temp = a[j]\n",
    "                 a[j] = a[j + 1]\n",
    "                 a[j + 1] = temp\n",
    "\n",
    "a = []\n",
    "number = int(input(\"Please Enter the Total Number of Elements : \"))\n",
    "for i in range(number):\n",
    "    value = int(input(\"Please enter the %d Element of List1 : \" %i))\n",
    "    a.append(value)\n",
    "\n",
    "bubblesort(a, number)\n",
    "print(\"The Sorted List in Ascending Order : \", a)"
   ]
  },
  {
   "cell_type": "markdown",
   "id": "stock-saying",
   "metadata": {},
   "source": [
    "# Que2)\n"
   ]
  },
  {
   "cell_type": "code",
   "execution_count": 2,
   "id": "hindu-journalism",
   "metadata": {},
   "outputs": [
    {
     "name": "stdout",
     "output_type": "stream",
     "text": [
      "[14, 21, 27, 41, 43, 45, 46, 57, 70]\n"
     ]
    }
   ],
   "source": [
    "def selectionSort(nlist):\n",
    "   for fillslot in range(len(nlist)-1,0,-1):\n",
    "       maxpos=0\n",
    "       for location in range(1,fillslot+1):\n",
    "           if nlist[location]>nlist[maxpos]:\n",
    "               maxpos = location\n",
    "\n",
    "       temp = nlist[fillslot]\n",
    "       nlist[fillslot] = nlist[maxpos]\n",
    "       nlist[maxpos] = temp\n",
    "\n",
    "nlist = [14,46,43,27,57,41,45,21,70]\n",
    "selectionSort(nlist)\n",
    "print(nlist)"
   ]
  },
  {
   "cell_type": "markdown",
   "id": "theoretical-buddy",
   "metadata": {},
   "source": [
    "# Que3)"
   ]
  },
  {
   "cell_type": "code",
   "execution_count": 3,
   "id": "social-craft",
   "metadata": {},
   "outputs": [
    {
     "name": "stdout",
     "output_type": "stream",
     "text": [
      "Sorted array is:\n",
      "5\n",
      "6\n",
      "11\n",
      "12\n",
      "13\n"
     ]
    }
   ],
   "source": [
    "# Python program for implementation of Insertion Sort \n",
    "\n",
    "# Function to do insertion sort \n",
    "def insertionSort(arr): \n",
    "\n",
    "\t# Traverse through 1 to len(arr) \n",
    "\tfor i in range(1, len(arr)): \n",
    "\n",
    "\t\tkey = arr[i] \n",
    "\n",
    "\t\t# Move elements of arr[0..i-1], that are \n",
    "\t\t# greater than key, to one position ahead \n",
    "\t\t# of their current position \n",
    "\t\tj = i-1\n",
    "\t\twhile j >=0 and key < arr[j] : \n",
    "\t\t\t\tarr[j+1] = arr[j] \n",
    "\t\t\t\tj -= 1\n",
    "\t\tarr[j+1] = key \n",
    "\n",
    "\n",
    "# Driver code to test above \n",
    "arr = [12, 11, 13, 5, 6] \n",
    "insertionSort(arr) \n",
    "print (\"Sorted array is:\") \n",
    "for i in range(len(arr)): \n",
    "\tprint (\"%d\" %arr[i]) \n",
    "\n",
    "# This code is contributed by Mohit Kumra \n"
   ]
  },
  {
   "cell_type": "code",
   "execution_count": null,
   "id": "friendly-macintosh",
   "metadata": {},
   "outputs": [],
   "source": []
  }
 ],
 "metadata": {
  "kernelspec": {
   "display_name": "Python 3",
   "language": "python",
   "name": "python3"
  },
  "language_info": {
   "codemirror_mode": {
    "name": "ipython",
    "version": 3
   },
   "file_extension": ".py",
   "mimetype": "text/x-python",
   "name": "python",
   "nbconvert_exporter": "python",
   "pygments_lexer": "ipython3",
   "version": "3.9.0"
  }
 },
 "nbformat": 4,
 "nbformat_minor": 5
}
